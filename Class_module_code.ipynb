{
 "cells": [
  {
   "cell_type": "markdown",
   "metadata": {},
   "source": [
    "# Classification Project"
   ]
  },
  {
   "cell_type": "code",
   "execution_count": 479,
   "metadata": {},
   "outputs": [],
   "source": [
    "# munging imports\n",
    "import pandas as pd\n",
    "import numpy as np\n",
    "\n",
    "# visualization imports\n",
    "import matplotlib.pyplot as plt\n",
    "import seaborn as sns\n",
    "\n",
    "# modeling imports\n",
    "from sklearn.neighbors import KNeighborsClassifier\n",
    "from sklearn.linear_model import LogisticRegression\n",
    "from sklearn.tree import DecisionTreeClassifier\n",
    "from sklearn.ensemble import RandomForestClassifier\n",
    "from sklearn.model_selection import train_test_split\n",
    "from sklearn.metrics import precision_score, recall_score, accuracy_score, roc_auc_score\n",
    "from sklearn.metrics import confusion_matrix\n",
    "from sklearn.metrics import accuracy_score\n",
    "from sklearn.preprocessing import StandardScaler"
   ]
  },
  {
   "cell_type": "markdown",
   "metadata": {},
   "source": [
    "# Data Cleaning, EDA"
   ]
  },
  {
   "cell_type": "code",
   "execution_count": 480,
   "metadata": {},
   "outputs": [],
   "source": [
    "df = pd.read_csv('bgg_db.csv')"
   ]
  },
  {
   "cell_type": "code",
   "execution_count": 481,
   "metadata": {},
   "outputs": [
    {
     "data": {
      "text/html": [
       "<div>\n",
       "<style scoped>\n",
       "    .dataframe tbody tr th:only-of-type {\n",
       "        vertical-align: middle;\n",
       "    }\n",
       "\n",
       "    .dataframe tbody tr th {\n",
       "        vertical-align: top;\n",
       "    }\n",
       "\n",
       "    .dataframe thead th {\n",
       "        text-align: right;\n",
       "    }\n",
       "</style>\n",
       "<table border=\"1\" class=\"dataframe\">\n",
       "  <thead>\n",
       "    <tr style=\"text-align: right;\">\n",
       "      <th></th>\n",
       "      <th>game_id</th>\n",
       "      <th>bgg_url</th>\n",
       "      <th>names</th>\n",
       "      <th>min_players</th>\n",
       "      <th>max_players</th>\n",
       "      <th>avg_time</th>\n",
       "      <th>min_time</th>\n",
       "      <th>max_time</th>\n",
       "      <th>year</th>\n",
       "      <th>avg_rating</th>\n",
       "      <th>...</th>\n",
       "      <th>thumb_url</th>\n",
       "      <th>age</th>\n",
       "      <th>mechanic</th>\n",
       "      <th>owned</th>\n",
       "      <th>category</th>\n",
       "      <th>designer</th>\n",
       "      <th>publisher</th>\n",
       "      <th>weight</th>\n",
       "      <th>expands</th>\n",
       "      <th>reimplements</th>\n",
       "    </tr>\n",
       "  </thead>\n",
       "  <tbody>\n",
       "    <tr>\n",
       "      <th>0</th>\n",
       "      <td>1</td>\n",
       "      <td>https://boardgamegeek.com/boardgame/1</td>\n",
       "      <td>Die Macher</td>\n",
       "      <td>3</td>\n",
       "      <td>5</td>\n",
       "      <td>240</td>\n",
       "      <td>240</td>\n",
       "      <td>240</td>\n",
       "      <td>1986</td>\n",
       "      <td>7.62437</td>\n",
       "      <td>...</td>\n",
       "      <td>https://cf.geekdo-images.com/thumb/img/Y2pmp3_...</td>\n",
       "      <td>14</td>\n",
       "      <td>Area Majority / Influence, Auction/Bidding, Di...</td>\n",
       "      <td>6615</td>\n",
       "      <td>Economic, Negotiation, Political</td>\n",
       "      <td>Karl-Heinz Schmiel</td>\n",
       "      <td>Hans im Glück</td>\n",
       "      <td>4.3373</td>\n",
       "      <td>NaN</td>\n",
       "      <td>NaN</td>\n",
       "    </tr>\n",
       "    <tr>\n",
       "      <th>1</th>\n",
       "      <td>2</td>\n",
       "      <td>https://boardgamegeek.com/boardgame/2</td>\n",
       "      <td>Dragonmaster</td>\n",
       "      <td>3</td>\n",
       "      <td>4</td>\n",
       "      <td>30</td>\n",
       "      <td>30</td>\n",
       "      <td>30</td>\n",
       "      <td>1981</td>\n",
       "      <td>6.61497</td>\n",
       "      <td>...</td>\n",
       "      <td>https://cf.geekdo-images.com/thumb/img/2tQqL6w...</td>\n",
       "      <td>12</td>\n",
       "      <td>Trick-taking</td>\n",
       "      <td>1224</td>\n",
       "      <td>Card Game, Fantasy</td>\n",
       "      <td>G. W. \"Jerry\" D'Arcey</td>\n",
       "      <td>E.S. Lowe</td>\n",
       "      <td>1.9630</td>\n",
       "      <td>NaN</td>\n",
       "      <td>2174.0</td>\n",
       "    </tr>\n",
       "    <tr>\n",
       "      <th>2</th>\n",
       "      <td>3</td>\n",
       "      <td>https://boardgamegeek.com/boardgame/3</td>\n",
       "      <td>Samurai</td>\n",
       "      <td>2</td>\n",
       "      <td>4</td>\n",
       "      <td>60</td>\n",
       "      <td>30</td>\n",
       "      <td>60</td>\n",
       "      <td>1998</td>\n",
       "      <td>7.44113</td>\n",
       "      <td>...</td>\n",
       "      <td>https://cf.geekdo-images.com/thumb/img/BOzp5hz...</td>\n",
       "      <td>10</td>\n",
       "      <td>Area Majority / Influence, Hand Management, Se...</td>\n",
       "      <td>14500</td>\n",
       "      <td>Abstract Strategy, Medieval</td>\n",
       "      <td>Reiner Knizia</td>\n",
       "      <td>Fantasy Flight Games</td>\n",
       "      <td>2.4940</td>\n",
       "      <td>NaN</td>\n",
       "      <td>NaN</td>\n",
       "    </tr>\n",
       "    <tr>\n",
       "      <th>3</th>\n",
       "      <td>4</td>\n",
       "      <td>https://boardgamegeek.com/boardgame/4</td>\n",
       "      <td>Tal der Könige</td>\n",
       "      <td>2</td>\n",
       "      <td>4</td>\n",
       "      <td>60</td>\n",
       "      <td>60</td>\n",
       "      <td>60</td>\n",
       "      <td>1992</td>\n",
       "      <td>6.60429</td>\n",
       "      <td>...</td>\n",
       "      <td>https://cf.geekdo-images.com/thumb/img/aqEMohP...</td>\n",
       "      <td>12</td>\n",
       "      <td>Action Points, Area Majority / Influence, Auct...</td>\n",
       "      <td>607</td>\n",
       "      <td>Ancient</td>\n",
       "      <td>Christian Beierer</td>\n",
       "      <td>KOSMOS</td>\n",
       "      <td>2.6667</td>\n",
       "      <td>NaN</td>\n",
       "      <td>NaN</td>\n",
       "    </tr>\n",
       "    <tr>\n",
       "      <th>4</th>\n",
       "      <td>5</td>\n",
       "      <td>https://boardgamegeek.com/boardgame/5</td>\n",
       "      <td>Acquire</td>\n",
       "      <td>2</td>\n",
       "      <td>6</td>\n",
       "      <td>90</td>\n",
       "      <td>90</td>\n",
       "      <td>90</td>\n",
       "      <td>1964</td>\n",
       "      <td>7.34541</td>\n",
       "      <td>...</td>\n",
       "      <td>https://cf.geekdo-images.com/thumb/img/ZODhu5g...</td>\n",
       "      <td>12</td>\n",
       "      <td>Hand Management, Investment, Market, Ownership...</td>\n",
       "      <td>22352</td>\n",
       "      <td>Economic</td>\n",
       "      <td>Sid Sackson</td>\n",
       "      <td>3M</td>\n",
       "      <td>2.5066</td>\n",
       "      <td>NaN</td>\n",
       "      <td>NaN</td>\n",
       "    </tr>\n",
       "  </tbody>\n",
       "</table>\n",
       "<p>5 rows × 24 columns</p>\n",
       "</div>"
      ],
      "text/plain": [
       "   game_id                                bgg_url           names  \\\n",
       "0        1  https://boardgamegeek.com/boardgame/1      Die Macher   \n",
       "1        2  https://boardgamegeek.com/boardgame/2    Dragonmaster   \n",
       "2        3  https://boardgamegeek.com/boardgame/3         Samurai   \n",
       "3        4  https://boardgamegeek.com/boardgame/4  Tal der Könige   \n",
       "4        5  https://boardgamegeek.com/boardgame/5         Acquire   \n",
       "\n",
       "   min_players  max_players  avg_time  min_time  max_time  year  avg_rating  \\\n",
       "0            3            5       240       240       240  1986     7.62437   \n",
       "1            3            4        30        30        30  1981     6.61497   \n",
       "2            2            4        60        30        60  1998     7.44113   \n",
       "3            2            4        60        60        60  1992     6.60429   \n",
       "4            2            6        90        90        90  1964     7.34541   \n",
       "\n",
       "   ...                                          thumb_url  age  \\\n",
       "0  ...  https://cf.geekdo-images.com/thumb/img/Y2pmp3_...   14   \n",
       "1  ...  https://cf.geekdo-images.com/thumb/img/2tQqL6w...   12   \n",
       "2  ...  https://cf.geekdo-images.com/thumb/img/BOzp5hz...   10   \n",
       "3  ...  https://cf.geekdo-images.com/thumb/img/aqEMohP...   12   \n",
       "4  ...  https://cf.geekdo-images.com/thumb/img/ZODhu5g...   12   \n",
       "\n",
       "                                            mechanic  owned  \\\n",
       "0  Area Majority / Influence, Auction/Bidding, Di...   6615   \n",
       "1                                       Trick-taking   1224   \n",
       "2  Area Majority / Influence, Hand Management, Se...  14500   \n",
       "3  Action Points, Area Majority / Influence, Auct...    607   \n",
       "4  Hand Management, Investment, Market, Ownership...  22352   \n",
       "\n",
       "                           category               designer  \\\n",
       "0  Economic, Negotiation, Political     Karl-Heinz Schmiel   \n",
       "1                Card Game, Fantasy  G. W. \"Jerry\" D'Arcey   \n",
       "2       Abstract Strategy, Medieval          Reiner Knizia   \n",
       "3                           Ancient      Christian Beierer   \n",
       "4                          Economic            Sid Sackson   \n",
       "\n",
       "              publisher  weight expands reimplements  \n",
       "0         Hans im Glück  4.3373     NaN          NaN  \n",
       "1             E.S. Lowe  1.9630     NaN       2174.0  \n",
       "2  Fantasy Flight Games  2.4940     NaN          NaN  \n",
       "3                KOSMOS  2.6667     NaN          NaN  \n",
       "4                    3M  2.5066     NaN          NaN  \n",
       "\n",
       "[5 rows x 24 columns]"
      ]
     },
     "execution_count": 481,
     "metadata": {},
     "output_type": "execute_result"
    }
   ],
   "source": [
    "df.head()"
   ]
  },
  {
   "cell_type": "code",
   "execution_count": 482,
   "metadata": {},
   "outputs": [
    {
     "name": "stdout",
     "output_type": "stream",
     "text": [
      "<class 'pandas.core.frame.DataFrame'>\n",
      "RangeIndex: 116455 entries, 0 to 116454\n",
      "Data columns (total 24 columns):\n",
      " #   Column        Non-Null Count   Dtype  \n",
      "---  ------        --------------   -----  \n",
      " 0   game_id       116455 non-null  int64  \n",
      " 1   bgg_url       116455 non-null  object \n",
      " 2   names         116455 non-null  object \n",
      " 3   min_players   116455 non-null  int64  \n",
      " 4   max_players   116455 non-null  int64  \n",
      " 5   avg_time      116455 non-null  int64  \n",
      " 6   min_time      116455 non-null  int64  \n",
      " 7   max_time      116455 non-null  int64  \n",
      " 8   year          116455 non-null  int64  \n",
      " 9   avg_rating    116455 non-null  float64\n",
      " 10  geek_rating   116455 non-null  float64\n",
      " 11  num_votes     116455 non-null  int64  \n",
      " 12  rank          18789 non-null   float64\n",
      " 13  image_url     115577 non-null  object \n",
      " 14  thumb_url     115577 non-null  object \n",
      " 15  age           116455 non-null  int64  \n",
      " 16  mechanic      99307 non-null   object \n",
      " 17  owned         116455 non-null  int64  \n",
      " 18  category      114405 non-null  object \n",
      " 19  designer      98710 non-null   object \n",
      " 20  publisher     116455 non-null  object \n",
      " 21  weight        116455 non-null  float64\n",
      " 22  expands       22421 non-null   float64\n",
      " 23  reimplements  4232 non-null    float64\n",
      "dtypes: float64(6), int64(10), object(8)\n",
      "memory usage: 21.3+ MB\n"
     ]
    }
   ],
   "source": [
    "df.info()"
   ]
  },
  {
   "cell_type": "code",
   "execution_count": 483,
   "metadata": {},
   "outputs": [],
   "source": [
    "df['expands'].fillna((0), inplace = True)"
   ]
  },
  {
   "cell_type": "code",
   "execution_count": 484,
   "metadata": {},
   "outputs": [],
   "source": [
    "df['reimplements'].fillna((0), inplace = True)"
   ]
  },
  {
   "cell_type": "code",
   "execution_count": 485,
   "metadata": {},
   "outputs": [
    {
     "data": {
      "text/html": [
       "<div>\n",
       "<style scoped>\n",
       "    .dataframe tbody tr th:only-of-type {\n",
       "        vertical-align: middle;\n",
       "    }\n",
       "\n",
       "    .dataframe tbody tr th {\n",
       "        vertical-align: top;\n",
       "    }\n",
       "\n",
       "    .dataframe thead th {\n",
       "        text-align: right;\n",
       "    }\n",
       "</style>\n",
       "<table border=\"1\" class=\"dataframe\">\n",
       "  <thead>\n",
       "    <tr style=\"text-align: right;\">\n",
       "      <th></th>\n",
       "      <th>game_id</th>\n",
       "      <th>min_players</th>\n",
       "      <th>max_players</th>\n",
       "      <th>avg_time</th>\n",
       "      <th>min_time</th>\n",
       "      <th>max_time</th>\n",
       "      <th>year</th>\n",
       "      <th>avg_rating</th>\n",
       "      <th>geek_rating</th>\n",
       "      <th>num_votes</th>\n",
       "      <th>rank</th>\n",
       "      <th>age</th>\n",
       "      <th>owned</th>\n",
       "      <th>weight</th>\n",
       "      <th>expands</th>\n",
       "      <th>reimplements</th>\n",
       "    </tr>\n",
       "  </thead>\n",
       "  <tbody>\n",
       "    <tr>\n",
       "      <th>count</th>\n",
       "      <td>116455.000000</td>\n",
       "      <td>116455.000000</td>\n",
       "      <td>116455.000000</td>\n",
       "      <td>1.164550e+05</td>\n",
       "      <td>116455.000000</td>\n",
       "      <td>1.164550e+05</td>\n",
       "      <td>116455.000000</td>\n",
       "      <td>116455.000000</td>\n",
       "      <td>116455.000000</td>\n",
       "      <td>116455.000000</td>\n",
       "      <td>18789.000000</td>\n",
       "      <td>116455.00000</td>\n",
       "      <td>116455.000000</td>\n",
       "      <td>116455.000000</td>\n",
       "      <td>116455.000000</td>\n",
       "      <td>116455.000000</td>\n",
       "    </tr>\n",
       "    <tr>\n",
       "      <th>mean</th>\n",
       "      <td>128880.065914</td>\n",
       "      <td>1.971689</td>\n",
       "      <td>6.053291</td>\n",
       "      <td>8.696503e+01</td>\n",
       "      <td>45.190460</td>\n",
       "      <td>8.617065e+01</td>\n",
       "      <td>1841.932935</td>\n",
       "      <td>4.633683</td>\n",
       "      <td>1.251105</td>\n",
       "      <td>152.281525</td>\n",
       "      <td>9394.762946</td>\n",
       "      <td>7.65123</td>\n",
       "      <td>310.465983</td>\n",
       "      <td>0.857445</td>\n",
       "      <td>23300.607282</td>\n",
       "      <td>2872.799854</td>\n",
       "    </tr>\n",
       "    <tr>\n",
       "      <th>std</th>\n",
       "      <td>97581.272282</td>\n",
       "      <td>0.839405</td>\n",
       "      <td>47.216350</td>\n",
       "      <td>6.552930e+03</td>\n",
       "      <td>540.149919</td>\n",
       "      <td>6.552935e+03</td>\n",
       "      <td>545.378078</td>\n",
       "      <td>2.971534</td>\n",
       "      <td>2.366411</td>\n",
       "      <td>1373.709970</td>\n",
       "      <td>5424.176947</td>\n",
       "      <td>5.01057</td>\n",
       "      <td>2036.012190</td>\n",
       "      <td>1.159118</td>\n",
       "      <td>61581.246702</td>\n",
       "      <td>21881.471654</td>\n",
       "    </tr>\n",
       "    <tr>\n",
       "      <th>min</th>\n",
       "      <td>1.000000</td>\n",
       "      <td>0.000000</td>\n",
       "      <td>0.000000</td>\n",
       "      <td>0.000000e+00</td>\n",
       "      <td>0.000000</td>\n",
       "      <td>0.000000e+00</td>\n",
       "      <td>-3500.000000</td>\n",
       "      <td>0.000000</td>\n",
       "      <td>0.000000</td>\n",
       "      <td>0.000000</td>\n",
       "      <td>1.000000</td>\n",
       "      <td>0.00000</td>\n",
       "      <td>0.000000</td>\n",
       "      <td>0.000000</td>\n",
       "      <td>0.000000</td>\n",
       "      <td>0.000000</td>\n",
       "    </tr>\n",
       "    <tr>\n",
       "      <th>25%</th>\n",
       "      <td>31571.500000</td>\n",
       "      <td>2.000000</td>\n",
       "      <td>2.000000</td>\n",
       "      <td>1.000000e+01</td>\n",
       "      <td>10.000000</td>\n",
       "      <td>1.000000e+01</td>\n",
       "      <td>1991.000000</td>\n",
       "      <td>1.000000</td>\n",
       "      <td>0.000000</td>\n",
       "      <td>1.000000</td>\n",
       "      <td>4698.000000</td>\n",
       "      <td>4.00000</td>\n",
       "      <td>2.000000</td>\n",
       "      <td>0.000000</td>\n",
       "      <td>0.000000</td>\n",
       "      <td>0.000000</td>\n",
       "    </tr>\n",
       "    <tr>\n",
       "      <th>50%</th>\n",
       "      <td>125747.000000</td>\n",
       "      <td>2.000000</td>\n",
       "      <td>4.000000</td>\n",
       "      <td>3.000000e+01</td>\n",
       "      <td>30.000000</td>\n",
       "      <td>3.000000e+01</td>\n",
       "      <td>2009.000000</td>\n",
       "      <td>5.692000</td>\n",
       "      <td>0.000000</td>\n",
       "      <td>3.000000</td>\n",
       "      <td>9395.000000</td>\n",
       "      <td>8.00000</td>\n",
       "      <td>10.000000</td>\n",
       "      <td>0.000000</td>\n",
       "      <td>0.000000</td>\n",
       "      <td>0.000000</td>\n",
       "    </tr>\n",
       "    <tr>\n",
       "      <th>75%</th>\n",
       "      <td>214553.500000</td>\n",
       "      <td>2.000000</td>\n",
       "      <td>6.000000</td>\n",
       "      <td>6.000000e+01</td>\n",
       "      <td>60.000000</td>\n",
       "      <td>6.000000e+01</td>\n",
       "      <td>2015.000000</td>\n",
       "      <td>6.990810</td>\n",
       "      <td>0.000000</td>\n",
       "      <td>22.000000</td>\n",
       "      <td>14092.000000</td>\n",
       "      <td>12.00000</td>\n",
       "      <td>81.000000</td>\n",
       "      <td>1.777800</td>\n",
       "      <td>0.000000</td>\n",
       "      <td>0.000000</td>\n",
       "    </tr>\n",
       "    <tr>\n",
       "      <th>max</th>\n",
       "      <td>307687.000000</td>\n",
       "      <td>50.000000</td>\n",
       "      <td>11299.000000</td>\n",
       "      <td>1.576800e+06</td>\n",
       "      <td>157680.000000</td>\n",
       "      <td>1.576800e+06</td>\n",
       "      <td>2022.000000</td>\n",
       "      <td>10.000000</td>\n",
       "      <td>8.576860</td>\n",
       "      <td>93524.000000</td>\n",
       "      <td>18789.000000</td>\n",
       "      <td>90.00000</td>\n",
       "      <td>139881.000000</td>\n",
       "      <td>5.000000</td>\n",
       "      <td>307293.000000</td>\n",
       "      <td>307544.000000</td>\n",
       "    </tr>\n",
       "  </tbody>\n",
       "</table>\n",
       "</div>"
      ],
      "text/plain": [
       "             game_id    min_players    max_players      avg_time  \\\n",
       "count  116455.000000  116455.000000  116455.000000  1.164550e+05   \n",
       "mean   128880.065914       1.971689       6.053291  8.696503e+01   \n",
       "std     97581.272282       0.839405      47.216350  6.552930e+03   \n",
       "min         1.000000       0.000000       0.000000  0.000000e+00   \n",
       "25%     31571.500000       2.000000       2.000000  1.000000e+01   \n",
       "50%    125747.000000       2.000000       4.000000  3.000000e+01   \n",
       "75%    214553.500000       2.000000       6.000000  6.000000e+01   \n",
       "max    307687.000000      50.000000   11299.000000  1.576800e+06   \n",
       "\n",
       "            min_time      max_time           year     avg_rating  \\\n",
       "count  116455.000000  1.164550e+05  116455.000000  116455.000000   \n",
       "mean       45.190460  8.617065e+01    1841.932935       4.633683   \n",
       "std       540.149919  6.552935e+03     545.378078       2.971534   \n",
       "min         0.000000  0.000000e+00   -3500.000000       0.000000   \n",
       "25%        10.000000  1.000000e+01    1991.000000       1.000000   \n",
       "50%        30.000000  3.000000e+01    2009.000000       5.692000   \n",
       "75%        60.000000  6.000000e+01    2015.000000       6.990810   \n",
       "max    157680.000000  1.576800e+06    2022.000000      10.000000   \n",
       "\n",
       "         geek_rating      num_votes          rank           age  \\\n",
       "count  116455.000000  116455.000000  18789.000000  116455.00000   \n",
       "mean        1.251105     152.281525   9394.762946       7.65123   \n",
       "std         2.366411    1373.709970   5424.176947       5.01057   \n",
       "min         0.000000       0.000000      1.000000       0.00000   \n",
       "25%         0.000000       1.000000   4698.000000       4.00000   \n",
       "50%         0.000000       3.000000   9395.000000       8.00000   \n",
       "75%         0.000000      22.000000  14092.000000      12.00000   \n",
       "max         8.576860   93524.000000  18789.000000      90.00000   \n",
       "\n",
       "               owned         weight        expands   reimplements  \n",
       "count  116455.000000  116455.000000  116455.000000  116455.000000  \n",
       "mean      310.465983       0.857445   23300.607282    2872.799854  \n",
       "std      2036.012190       1.159118   61581.246702   21881.471654  \n",
       "min         0.000000       0.000000       0.000000       0.000000  \n",
       "25%         2.000000       0.000000       0.000000       0.000000  \n",
       "50%        10.000000       0.000000       0.000000       0.000000  \n",
       "75%        81.000000       1.777800       0.000000       0.000000  \n",
       "max    139881.000000       5.000000  307293.000000  307544.000000  "
      ]
     },
     "execution_count": 485,
     "metadata": {},
     "output_type": "execute_result"
    }
   ],
   "source": [
    "df.describe()"
   ]
  },
  {
   "cell_type": "code",
   "execution_count": 486,
   "metadata": {},
   "outputs": [
    {
     "data": {
      "text/plain": [
       "<AxesSubplot:>"
      ]
     },
     "execution_count": 486,
     "metadata": {},
     "output_type": "execute_result"
    },
    {
     "data": {
      "image/png": "[encoded data removed]",
      "text/plain": [
       "<Figure size 432x288 with 1 Axes>"
      ]
     },
     "metadata": {
      "needs_background": "light"
     },
     "output_type": "display_data"
    }
   ],
   "source": [
    "df.geek_rating.hist()"
   ]
  },
  {
   "cell_type": "code",
   "execution_count": 487,
   "metadata": {},
   "outputs": [],
   "source": [
    "df = df[['names', 'min_players', 'max_players', 'avg_time','min_time', 'max_time', 'year', 'avg_rating', \n",
    "        'geek_rating','num_votes', 'rank', 'age', 'mechanic','owned', 'category', 'designer', 'publisher', \n",
    "        'weight', 'expands','reimplements']]"
   ]
  },
  {
   "cell_type": "code",
   "execution_count": 488,
   "metadata": {},
   "outputs": [],
   "source": [
    "df_slim = df[(df['geek_rating'] > 0)]"
   ]
  },
  {
   "cell_type": "code",
   "execution_count": 489,
   "metadata": {},
   "outputs": [
    {
     "name": "stdout",
     "output_type": "stream",
     "text": [
      "<class 'pandas.core.frame.DataFrame'>\n",
      "Int64Index: 25543 entries, 0 to 115788\n",
      "Data columns (total 20 columns):\n",
      " #   Column        Non-Null Count  Dtype  \n",
      "---  ------        --------------  -----  \n",
      " 0   names         25543 non-null  object \n",
      " 1   min_players   25543 non-null  int64  \n",
      " 2   max_players   25543 non-null  int64  \n",
      " 3   avg_time      25543 non-null  int64  \n",
      " 4   min_time      25543 non-null  int64  \n",
      " 5   max_time      25543 non-null  int64  \n",
      " 6   year          25543 non-null  int64  \n",
      " 7   avg_rating    25543 non-null  float64\n",
      " 8   geek_rating   25543 non-null  float64\n",
      " 9   num_votes     25543 non-null  int64  \n",
      " 10  rank          18789 non-null  float64\n",
      " 11  age           25543 non-null  int64  \n",
      " 12  mechanic      23447 non-null  object \n",
      " 13  owned         25543 non-null  int64  \n",
      " 14  category      25291 non-null  object \n",
      " 15  designer      24405 non-null  object \n",
      " 16  publisher     25543 non-null  object \n",
      " 17  weight        25543 non-null  float64\n",
      " 18  expands       25543 non-null  float64\n",
      " 19  reimplements  25543 non-null  float64\n",
      "dtypes: float64(6), int64(9), object(5)\n",
      "memory usage: 4.1+ MB\n"
     ]
    }
   ],
   "source": [
    "df_slim.info()"
   ]
  },
  {
   "cell_type": "code",
   "execution_count": 490,
   "metadata": {},
   "outputs": [
    {
     "data": {
      "text/plain": [
       "65897    200\n",
       "3501     362\n",
       "26302    999\n",
       "22985    999\n",
       "80904    999\n",
       "Name: max_players, dtype: int64"
      ]
     },
     "execution_count": 490,
     "metadata": {},
     "output_type": "execute_result"
    }
   ],
   "source": [
    "df_slim.max_players.sort_values().tail()"
   ]
  },
  {
   "cell_type": "code",
   "execution_count": 491,
   "metadata": {},
   "outputs": [],
   "source": [
    "df_slim = df_slim[df_slim['max_players']<400]"
   ]
  },
  {
   "cell_type": "code",
   "execution_count": 492,
   "metadata": {},
   "outputs": [],
   "source": [
    "df_slim = df_slim[df_slim['avg_time'] < 60000]"
   ]
  },
  {
   "cell_type": "code",
   "execution_count": 493,
   "metadata": {},
   "outputs": [
    {
     "data": {
      "text/plain": [
       "2136    -3500\n",
       "5044    -3000\n",
       "2134    -3000\n",
       "172     -2200\n",
       "18316   -1400\n",
       "3512    -1400\n",
       "10960   -1300\n",
       "4944     -200\n",
       "19744    -100\n",
       "26312       0\n",
       "26311       0\n",
       "37263       0\n",
       "26310       0\n",
       "26288       0\n",
       "26119       0\n",
       "4880        0\n",
       "26043       0\n",
       "9850        0\n",
       "25834       0\n",
       "25788       0\n",
       "Name: year, dtype: int64"
      ]
     },
     "execution_count": 493,
     "metadata": {},
     "output_type": "execute_result"
    }
   ],
   "source": [
    "df_slim.year.sort_values().head(20)"
   ]
  },
  {
   "cell_type": "code",
   "execution_count": 494,
   "metadata": {},
   "outputs": [],
   "source": [
    "df_slim = df_slim[df_slim['year'] >= 0]"
   ]
  },
  {
   "cell_type": "code",
   "execution_count": 495,
   "metadata": {},
   "outputs": [
    {
     "data": {
      "text/plain": [
       "<AxesSubplot:>"
      ]
     },
     "execution_count": 495,
     "metadata": {},
     "output_type": "execute_result"
    },
    {
     "data": {
      "image/png": "[encoded data removed]",
      "text/plain": [
       "<Figure size 432x288 with 1 Axes>"
      ]
     },
     "metadata": {
      "needs_background": "light"
     },
     "output_type": "display_data"
    }
   ],
   "source": [
    "df_slim.weight.hist()"
   ]
  },
  {
   "cell_type": "code",
   "execution_count": 496,
   "metadata": {},
   "outputs": [
    {
     "name": "stdout",
     "output_type": "stream",
     "text": [
      "<class 'pandas.core.frame.DataFrame'>\n",
      "Int64Index: 25529 entries, 0 to 115788\n",
      "Data columns (total 20 columns):\n",
      " #   Column        Non-Null Count  Dtype  \n",
      "---  ------        --------------  -----  \n",
      " 0   names         25529 non-null  object \n",
      " 1   min_players   25529 non-null  int64  \n",
      " 2   max_players   25529 non-null  int64  \n",
      " 3   avg_time      25529 non-null  int64  \n",
      " 4   min_time      25529 non-null  int64  \n",
      " 5   max_time      25529 non-null  int64  \n",
      " 6   year          25529 non-null  int64  \n",
      " 7   avg_rating    25529 non-null  float64\n",
      " 8   geek_rating   25529 non-null  float64\n",
      " 9   num_votes     25529 non-null  int64  \n",
      " 10  rank          18775 non-null  float64\n",
      " 11  age           25529 non-null  int64  \n",
      " 12  mechanic      23434 non-null  object \n",
      " 13  owned         25529 non-null  int64  \n",
      " 14  category      25277 non-null  object \n",
      " 15  designer      24391 non-null  object \n",
      " 16  publisher     25529 non-null  object \n",
      " 17  weight        25529 non-null  float64\n",
      " 18  expands       25529 non-null  float64\n",
      " 19  reimplements  25529 non-null  float64\n",
      "dtypes: float64(6), int64(9), object(5)\n",
      "memory usage: 4.1+ MB\n"
     ]
    }
   ],
   "source": [
    "df_slim.info()"
   ]
  },
  {
   "cell_type": "code",
   "execution_count": 497,
   "metadata": {},
   "outputs": [
    {
     "data": {
      "text/plain": [
       "<AxesSubplot:>"
      ]
     },
     "execution_count": 497,
     "metadata": {},
     "output_type": "execute_result"
    },
    {
     "data": {
      "image/png": "[encoded data removed]",
      "text/plain": [
       "<Figure size 432x288 with 1 Axes>"
      ]
     },
     "metadata": {
      "needs_background": "light"
     },
     "output_type": "display_data"
    }
   ],
   "source": [
    "df_slim.geek_rating.hist()"
   ]
  },
  {
   "cell_type": "markdown",
   "metadata": {},
   "source": [
    "The target of the model is the geek_rating and the other numerical features will be the predictors of the baseline model"
   ]
  },
  {
   "cell_type": "markdown",
   "metadata": {},
   "source": [
    "# Baselining and model building"
   ]
  },
  {
   "cell_type": "code",
   "execution_count": 689,
   "metadata": {},
   "outputs": [],
   "source": [
    "X = df_slim[['min_players', 'max_players', 'avg_time','min_time', 'max_time',\n",
    "             'year', 'age', 'weight','expands', 'num_votes', 'owned',\n",
    "             'reimplements']]\n",
    "y_raw = df_slim[['geek_rating']]"
   ]
  },
  {
   "cell_type": "code",
   "execution_count": 690,
   "metadata": {},
   "outputs": [
    {
     "data": {
      "text/plain": [
       "0         7.15383\n",
       "1         5.80921\n",
       "2         7.24689\n",
       "3         5.70264\n",
       "4         7.16840\n",
       "           ...   \n",
       "113607    5.55593\n",
       "114664    5.57559\n",
       "114802    5.53111\n",
       "114865    5.71095\n",
       "115788    5.64651\n",
       "Name: geek_rating, Length: 25529, dtype: float64"
      ]
     },
     "execution_count": 690,
     "metadata": {},
     "output_type": "execute_result"
    }
   ],
   "source": [
    "y_raw.geek_rating"
   ]
  },
  {
   "cell_type": "code",
   "execution_count": 691,
   "metadata": {},
   "outputs": [
    {
     "name": "stdout",
     "output_type": "stream",
     "text": [
      "<class 'pandas.core.frame.DataFrame'>\n",
      "Int64Index: 25529 entries, 0 to 115788\n",
      "Data columns (total 12 columns):\n",
      " #   Column        Non-Null Count  Dtype  \n",
      "---  ------        --------------  -----  \n",
      " 0   min_players   25529 non-null  int64  \n",
      " 1   max_players   25529 non-null  int64  \n",
      " 2   avg_time      25529 non-null  int64  \n",
      " 3   min_time      25529 non-null  int64  \n",
      " 4   max_time      25529 non-null  int64  \n",
      " 5   year          25529 non-null  int64  \n",
      " 6   age           25529 non-null  int64  \n",
      " 7   weight        25529 non-null  float64\n",
      " 8   expands       25529 non-null  float64\n",
      " 9   num_votes     25529 non-null  int64  \n",
      " 10  owned         25529 non-null  int64  \n",
      " 11  reimplements  25529 non-null  float64\n",
      "dtypes: float64(3), int64(9)\n",
      "memory usage: 3.8 MB\n"
     ]
    }
   ],
   "source": [
    "X.info()"
   ]
  },
  {
   "cell_type": "code",
   "execution_count": 692,
   "metadata": {},
   "outputs": [],
   "source": [
    "X_train, X_test, y_train_raw, y_test_raw = train_test_split(X, y_raw, test_size = .2)"
   ]
  },
  {
   "cell_type": "code",
   "execution_count": 693,
   "metadata": {},
   "outputs": [
    {
     "data": {
      "text/html": [
       "<div>\n",
       "<style scoped>\n",
       "    .dataframe tbody tr th:only-of-type {\n",
       "        vertical-align: middle;\n",
       "    }\n",
       "\n",
       "    .dataframe tbody tr th {\n",
       "        vertical-align: top;\n",
       "    }\n",
       "\n",
       "    .dataframe thead th {\n",
       "        text-align: right;\n",
       "    }\n",
       "</style>\n",
       "<table border=\"1\" class=\"dataframe\">\n",
       "  <thead>\n",
       "    <tr style=\"text-align: right;\">\n",
       "      <th></th>\n",
       "      <th>geek_rating</th>\n",
       "    </tr>\n",
       "  </thead>\n",
       "  <tbody>\n",
       "    <tr>\n",
       "      <th>0</th>\n",
       "      <td>7.15383</td>\n",
       "    </tr>\n",
       "    <tr>\n",
       "      <th>1</th>\n",
       "      <td>5.80921</td>\n",
       "    </tr>\n",
       "    <tr>\n",
       "      <th>2</th>\n",
       "      <td>7.24689</td>\n",
       "    </tr>\n",
       "    <tr>\n",
       "      <th>3</th>\n",
       "      <td>5.70264</td>\n",
       "    </tr>\n",
       "    <tr>\n",
       "      <th>4</th>\n",
       "      <td>7.16840</td>\n",
       "    </tr>\n",
       "  </tbody>\n",
       "</table>\n",
       "</div>"
      ],
      "text/plain": [
       "   geek_rating\n",
       "0      7.15383\n",
       "1      5.80921\n",
       "2      7.24689\n",
       "3      5.70264\n",
       "4      7.16840"
      ]
     },
     "execution_count": 693,
     "metadata": {},
     "output_type": "execute_result"
    }
   ],
   "source": [
    "y_raw.head()"
   ]
  },
  {
   "cell_type": "code",
   "execution_count": 694,
   "metadata": {},
   "outputs": [
    {
     "data": {
      "text/plain": [
       "geek_rating    5.704216\n",
       "dtype: float64"
      ]
     },
     "execution_count": 694,
     "metadata": {},
     "output_type": "execute_result"
    }
   ],
   "source": [
    "y_train_raw.mean()"
   ]
  },
  {
   "cell_type": "code",
   "execution_count": 695,
   "metadata": {},
   "outputs": [
    {
     "data": {
      "text/plain": [
       "geek_rating    5.56708\n",
       "dtype: float64"
      ]
     },
     "execution_count": 695,
     "metadata": {},
     "output_type": "execute_result"
    }
   ],
   "source": [
    "y_train_raw.median()"
   ]
  },
  {
   "cell_type": "code",
   "execution_count": 696,
   "metadata": {},
   "outputs": [
    {
     "name": "stderr",
     "output_type": "stream",
     "text": [
      "<ipython-input-696-9dbfd970f69c>:1: SettingWithCopyWarning: \n",
      "A value is trying to be set on a copy of a slice from a DataFrame.\n",
      "Try using .loc[row_indexer,col_indexer] = value instead\n",
      "\n",
      "See the caveats in the documentation: https://pandas.pydata.org/pandas-docs/stable/user_guide/indexing.html#returning-a-view-versus-a-copy\n",
      "  y_train_raw['geek_rating'] = np.where(y_train_raw['geek_rating'] > y_train_raw['geek_rating'].median() , 1, 0)\n"
     ]
    }
   ],
   "source": [
    "y_train_raw['geek_rating'] = np.where(y_train_raw['geek_rating'] > y_train_raw['geek_rating'].median() , 1, 0)"
   ]
  },
  {
   "cell_type": "code",
   "execution_count": 697,
   "metadata": {},
   "outputs": [],
   "source": [
    "y_train = y_train_raw['geek_rating']"
   ]
  },
  {
   "cell_type": "code",
   "execution_count": 698,
   "metadata": {},
   "outputs": [
    {
     "name": "stderr",
     "output_type": "stream",
     "text": [
      "<ipython-input-698-5d6fb57ff8b3>:1: SettingWithCopyWarning: \n",
      "A value is trying to be set on a copy of a slice from a DataFrame.\n",
      "Try using .loc[row_indexer,col_indexer] = value instead\n",
      "\n",
      "See the caveats in the documentation: https://pandas.pydata.org/pandas-docs/stable/user_guide/indexing.html#returning-a-view-versus-a-copy\n",
      "  y_test_raw['geek_rating'] = np.where(y_test_raw['geek_rating'] > y_test_raw['geek_rating'].median(), 1, 0)\n"
     ]
    }
   ],
   "source": [
    "y_test_raw['geek_rating'] = np.where(y_test_raw['geek_rating'] > y_test_raw['geek_rating'].median(), 1, 0)"
   ]
  },
  {
   "cell_type": "code",
   "execution_count": 699,
   "metadata": {},
   "outputs": [],
   "source": [
    "y_test = y_test_raw['geek_rating']"
   ]
  },
  {
   "cell_type": "code",
   "execution_count": 700,
   "metadata": {},
   "outputs": [
    {
     "data": {
      "text/plain": [
       "pandas.core.series.Series"
      ]
     },
     "execution_count": 700,
     "metadata": {},
     "output_type": "execute_result"
    }
   ],
   "source": [
    "type(y_train)"
   ]
  },
  {
   "cell_type": "code",
   "execution_count": 701,
   "metadata": {},
   "outputs": [
    {
     "data": {
      "text/plain": [
       "(20423,)"
      ]
     },
     "execution_count": 701,
     "metadata": {},
     "output_type": "execute_result"
    }
   ],
   "source": [
    "y_train.shape"
   ]
  },
  {
   "cell_type": "code",
   "execution_count": 702,
   "metadata": {},
   "outputs": [
    {
     "data": {
      "text/plain": [
       "(5106,)"
      ]
     },
     "execution_count": 702,
     "metadata": {},
     "output_type": "execute_result"
    }
   ],
   "source": [
    "y_test.shape"
   ]
  },
  {
   "cell_type": "code",
   "execution_count": 703,
   "metadata": {},
   "outputs": [
    {
     "data": {
      "text/plain": [
       "(20423, 12)"
      ]
     },
     "execution_count": 703,
     "metadata": {},
     "output_type": "execute_result"
    }
   ],
   "source": [
    "X_train.shape"
   ]
  },
  {
   "cell_type": "code",
   "execution_count": 704,
   "metadata": {},
   "outputs": [
    {
     "data": {
      "text/plain": [
       "0    10212\n",
       "1    10211\n",
       "Name: geek_rating, dtype: int64"
      ]
     },
     "execution_count": 704,
     "metadata": {},
     "output_type": "execute_result"
    }
   ],
   "source": [
    "y_train.value_counts()"
   ]
  },
  {
   "cell_type": "code",
   "execution_count": 705,
   "metadata": {},
   "outputs": [
    {
     "data": {
      "text/plain": [
       "pandas.core.series.Series"
      ]
     },
     "execution_count": 705,
     "metadata": {},
     "output_type": "execute_result"
    }
   ],
   "source": [
    "type(y_test)"
   ]
  },
  {
   "cell_type": "code",
   "execution_count": 706,
   "metadata": {},
   "outputs": [],
   "source": [
    "df_slim['g_rate'] = np.where(df_slim['geek_rating'] > df_slim['geek_rating'].median() , 1, 0)"
   ]
  },
  {
   "cell_type": "code",
   "execution_count": 707,
   "metadata": {},
   "outputs": [],
   "source": [
    "y = df_slim['g_rate']"
   ]
  },
  {
   "cell_type": "markdown",
   "metadata": {},
   "source": [
    "The train and test datasets are ready for baselining. Lets try some basic models and metrics which are possibly a good fit for the data."
   ]
  },
  {
   "cell_type": "code",
   "execution_count": 517,
   "metadata": {},
   "outputs": [
    {
     "data": {
      "text/plain": [
       "RandomForestClassifier()"
      ]
     },
     "execution_count": 517,
     "metadata": {},
     "output_type": "execute_result"
    }
   ],
   "source": [
    "# Fit all possible model with cross validation on data to see which basic model performing the best\n",
    "scaler = StandardScaler()\n",
    "\n",
    "X_train_scaled = scaler.fit_transform(X_train.values)\n",
    "X_test_scaled = scaler.transform(X_test.values)\n",
    "\n",
    "\n",
    "knn = KNeighborsClassifier(n_neighbors=5)\n",
    "knn.fit(X_train_scaled, y_train)\n",
    "\n",
    "\n",
    "lm1 = LogisticRegression(C=1000, solver='liblinear')\n",
    "lm1.fit(X_train, y_train)\n",
    "\n",
    "\n",
    "decisiontree = DecisionTreeClassifier(max_depth=4)\n",
    "decisiontree.fit(X_train, y_train)\n",
    "\n",
    "\n",
    "randomforest = RandomForestClassifier()\n",
    "randomforest.fit(X_train, y_train)"
   ]
  },
  {
   "cell_type": "code",
   "execution_count": 518,
   "metadata": {},
   "outputs": [
    {
     "name": "stdout",
     "output_type": "stream",
     "text": [
      "10 nearest neighbors validation metrics: \n",
      " Accuracy: 0.7856 \n",
      " F1: 0.7868\n",
      "\n",
      "\n",
      "Logistic regression validation metrics: \n",
      " Accuracy: 0.7890 \n",
      " F1: 0.7767\n",
      "\n",
      "\n",
      "Decision tree validation metrics: \n",
      " Accuracy: 0.7952 \n",
      " F1: 0.7272\n",
      "\n",
      "\n",
      "Random Forest validation metrics: \n",
      " Accuracy: 0.8078 \n",
      " F1: 0.7890\n"
     ]
    }
   ],
   "source": [
    "cross_val_score(knn, X, y,\n",
    "                cv=5, \n",
    "                scoring='accuracy')\n",
    "\n",
    "cross_val_score(knn, X, y, \n",
    "                cv=5, \n",
    "                scoring='f1') \n",
    "\n",
    "print('10 nearest neighbors validation metrics: \\n Accuracy: %.4f \\n F1: %.4f' %\n",
    "        (np.mean(cross_val_score(knn, X, y, scoring='accuracy')), \n",
    "         np.mean(cross_val_score(knn, X, y, scoring='f1')))\n",
    "     )\n",
    "\n",
    "\n",
    "print('\\n')\n",
    "\n",
    "\n",
    "cross_val_score(lm1, X, y,\n",
    "                cv=5, \n",
    "                scoring='accuracy')\n",
    "\n",
    "cross_val_score(lm1, X, y, \n",
    "                cv=5, \n",
    "                scoring='f1') \n",
    "\n",
    "print('Logistic regression validation metrics: \\n Accuracy: %.4f \\n F1: %.4f' %\n",
    "        (np.mean(cross_val_score(lm1, X, y, scoring='accuracy')), \n",
    "         np.mean(cross_val_score(lm1, X, y, scoring='f1')))\n",
    "     )\n",
    "\n",
    "\n",
    "print('\\n')\n",
    "\n",
    "\n",
    "cross_val_score(decisiontree, X, y,\n",
    "                cv=5, \n",
    "                scoring='accuracy')\n",
    "\n",
    "cross_val_score(decisiontree, X, y, \n",
    "                cv=5, \n",
    "                scoring='f1') \n",
    "\n",
    "print('Decision tree validation metrics: \\n Accuracy: %.4f \\n F1: %.4f' %\n",
    "        (np.mean(cross_val_score(decisiontree, X, y, scoring='accuracy')), \n",
    "         np.mean(cross_val_score(decisiontree, X, y, scoring='f1')))\n",
    "     )\n",
    "\n",
    "\n",
    "print('\\n')\n",
    "\n",
    "\n",
    "cross_val_score(randomforest, X, y,\n",
    "                cv=5, \n",
    "                scoring='accuracy')\n",
    "\n",
    "cross_val_score(randomforest, X, y, \n",
    "                cv=5, \n",
    "                scoring='f1') \n",
    "\n",
    "print('Random Forest validation metrics: \\n Accuracy: %.4f \\n F1: %.4f' %\n",
    "        (np.mean(cross_val_score(randomforest, X, y, scoring='accuracy')), \n",
    "         np.mean(cross_val_score(randomforest, X, y, scoring='f1')))\n",
    "     )"
   ]
  },
  {
   "cell_type": "code",
   "execution_count": 519,
   "metadata": {},
   "outputs": [
    {
     "data": {
      "text/plain": [
       "<matplotlib.legend.Legend at 0x7facd9f6de20>"
      ]
     },
     "execution_count": 519,
     "metadata": {},
     "output_type": "execute_result"
    },
    {
     "data": {
      "image/png": "[encoded data removed]",
      "text/plain": [
       "<Figure size 432x288 with 1 Axes>"
      ]
     },
     "metadata": {
      "needs_background": "light"
     },
     "output_type": "display_data"
    }
   ],
   "source": [
    "fpr, tpr, _ = roc_curve(y_test, knn.predict_proba(X_test_scaled)[:,1])\n",
    "plt.plot(fpr, tpr)\n",
    "\n",
    "fpr, tpr, _ = roc_curve(y_test, lm1.predict_proba(X_test)[:,1])\n",
    "plt.plot(fpr, tpr)\n",
    "\n",
    "fpr, tpr, _ = roc_curve(y_test, decisiontree.predict_proba(X_test)[:,1])\n",
    "plt.plot(fpr, tpr)\n",
    "\n",
    "fpr, tpr, _ = roc_curve(y_test, randomforest.predict_proba(X_test)[:,1])\n",
    "plt.plot(fpr, tpr)\n",
    "\n",
    "\n",
    "x = np.linspace(0,1, 100000)\n",
    "plt.plot(x, x, linestyle='--')\n",
    "\n",
    "plt.title('ROC Curve')\n",
    "plt.xlabel('False Positive Rate')\n",
    "plt.ylabel('True Positive Rate')\n",
    "plt.legend(['10-NN','Logistic Regression','Decision Tree','Random Forest'])"
   ]
  },
  {
   "cell_type": "markdown",
   "metadata": {},
   "source": [
    "As the data is balanced and there is no importance differences between positive and negative events the chosen metrics will be <b>accuracy</b> .\n",
    "\n",
    "The size of the data, the fact that interpretability is not as important, (in the way that we don't need to explain for the users how the different features influences the output) and the focus can be on the high performance the chosen model is <b>random forest</b>\n",
    "\n",
    "The ROC Curve confirms as well that random Forest model works the best for the selected dataset."
   ]
  },
  {
   "cell_type": "code",
   "execution_count": 520,
   "metadata": {},
   "outputs": [],
   "source": [
    "def make_confusion_matrix(model, threshold=0.5):\n",
    "    # Predict class 1 if probability of being in class 1 is greater than threshold\n",
    "    # (model.predict(X_test) does this automatically with a threshold of 0.5)\n",
    "    y_predict = (model.predict_proba(X_test)[:, 1] >= threshold)\n",
    "    fraud_confusion = confusion_matrix(y_test, y_predict)\n",
    "    plt.figure(dpi=80)\n",
    "    sns.heatmap(fraud_confusion, cmap=plt.cm.Blues, annot=True, square=True, fmt='d',\n",
    "           xticklabels=['legit', 'fraud'],\n",
    "           yticklabels=['legit', 'fraud']);\n",
    "    plt.xlabel('prediction')\n",
    "    plt.ylabel('actual')"
   ]
  },
  {
   "cell_type": "code",
   "execution_count": 521,
   "metadata": {},
   "outputs": [
    {
     "data": {
      "image/png": "[encoded data removed]",
      "text/plain": [
       "<Figure size 480x320 with 2 Axes>"
      ]
     },
     "metadata": {
      "needs_background": "light"
     },
     "output_type": "display_data"
    }
   ],
   "source": [
    "make_confusion_matrix(randomforest, threshold=0.5)"
   ]
  },
  {
   "cell_type": "code",
   "execution_count": 522,
   "metadata": {},
   "outputs": [
    {
     "data": {
      "application/vnd.jupyter.widget-view+json": {
       "model_id": "874385b1f2a64de89e57aaaa973cd423",
       "version_major": 2,
       "version_minor": 0
      },
      "text/plain": [
       "interactive(children=(FloatSlider(value=0.5, description='threshold', max=1.0, step=0.02), Output()), _dom_cla…"
      ]
     },
     "metadata": {},
     "output_type": "display_data"
    }
   ],
   "source": [
    "\n",
    "from ipywidgets import interactive, FloatSlider\n",
    "\n",
    "interactive(lambda threshold: make_confusion_matrix(randomforest, threshold), threshold=(0.0,1.0,0.02))"
   ]
  },
  {
   "cell_type": "markdown",
   "metadata": {},
   "source": [
    "The Random Forest gives a balanced confusion matrix as well. \n",
    "\n",
    "Now that we have the right model we can start to find the best parameters to it, so it gives us the strongest predictions."
   ]
  },
  {
   "cell_type": "code",
   "execution_count": 523,
   "metadata": {},
   "outputs": [
    {
     "name": "stdout",
     "output_type": "stream",
     "text": [
      "Requirement already satisfied: tqdm in /Users/gabriellanemeth/opt/anaconda3/lib/python3.8/site-packages (4.50.2)\r\n"
     ]
    }
   ],
   "source": [
    "!pip install tqdm"
   ]
  },
  {
   "cell_type": "code",
   "execution_count": 525,
   "metadata": {},
   "outputs": [],
   "source": [
    "from tqdm import tqdm\n",
    "import random"
   ]
  },
  {
   "cell_type": "code",
   "execution_count": 526,
   "metadata": {},
   "outputs": [
    {
     "name": "stderr",
     "output_type": "stream",
     "text": [
      "100%|██████████| 23/23 [04:42<00:00, 12.29s/it]"
     ]
    },
    {
     "name": "stdout",
     "output_type": "stream",
     "text": [
      "Best number of estimators:  120.\n"
     ]
    },
    {
     "name": "stderr",
     "output_type": "stream",
     "text": [
      "\n"
     ]
    }
   ],
   "source": [
    "number_trees_search_space = [10*i for i in range(2, 25)]\n",
    "accuracies = []\n",
    "for number in tqdm(number_trees_search_space):\n",
    "    classifier = RandomForestClassifier(n_estimators = number)\n",
    "    scores = []\n",
    "    rand_splits = [random.choice([i for i in range(2, 60)]) for j in range(5)]\n",
    "    for split in rand_splits:\n",
    "        x_train, x_val, Y_train, Y_val = train_test_split(X_train, y_train, test_size=0.2, random_state=split)\n",
    "        classifier.fit(x_train, Y_train)\n",
    "        scores.append(classifier.score(x_val, Y_val))\n",
    "    accuracies.append(sum(scores)/len(scores))\n",
    "index = [i for i, val in enumerate(accuracies) if val==max(accuracies)][0]\n",
    "optimal_n_estimators = number_trees_search_space[index]\n",
    "print(\"Best number of estimators:  {}.\".format(optimal_n_estimators))"
   ]
  },
  {
   "cell_type": "code",
   "execution_count": 527,
   "metadata": {},
   "outputs": [
    {
     "data": {
      "text/plain": [
       "(16338, 12)"
      ]
     },
     "execution_count": 527,
     "metadata": {},
     "output_type": "execute_result"
    }
   ],
   "source": [
    "x_train.shape"
   ]
  },
  {
   "cell_type": "code",
   "execution_count": 528,
   "metadata": {},
   "outputs": [
    {
     "data": {
      "image/png": "[encoded data removed]",
      "text/plain": [
       "<Figure size 1440x960 with 1 Axes>"
      ]
     },
     "metadata": {
      "needs_background": "light"
     },
     "output_type": "display_data"
    }
   ],
   "source": [
    "#Plot Accuracies by the amount of estimators\n",
    "plt.figure(figsize=(12,8), dpi = 120)\n",
    "plt.plot(accuracies, color = 'blue', label = 'Accuracy')\n",
    "plt.axvline(index, ymin=-1, ymax=1, color = 'red', ls = ':', \n",
    "            label = \"{} Estimators\".format(optimal_n_estimators))\n",
    "plt.xlabel(\"Number of Trees\", size = 18, fontweight = 'bold', y = -1.03)\n",
    "indices = np.arange(len(number_trees_search_space))\n",
    "labels = []\n",
    "for x in number_trees_search_space:\n",
    "    if x % 2 == 0:\n",
    "        labels.append(str(x))\n",
    "    else:\n",
    "        labels.append(\" \")\n",
    "plt.xticks(indices, labels)\n",
    "plt.legend(loc = 'upper left')\n",
    "plt.title(\"Accuracy by Number of Estimators\", size = 22, fontweight = 'bold', y = 1.03);"
   ]
  },
  {
   "cell_type": "code",
   "execution_count": 530,
   "metadata": {},
   "outputs": [
    {
     "data": {
      "text/plain": [
       "RandomForestClassifier(n_estimators=120)"
      ]
     },
     "execution_count": 530,
     "metadata": {},
     "output_type": "execute_result"
    }
   ],
   "source": [
    "randomforest = RandomForestClassifier(n_estimators = 120)\n",
    "randomforest.fit(X_train, y_train)\n"
   ]
  },
  {
   "cell_type": "code",
   "execution_count": 531,
   "metadata": {},
   "outputs": [
    {
     "name": "stdout",
     "output_type": "stream",
     "text": [
      "Random Forest validation metrics: \n",
      " Accuracy: 0.8083\n"
     ]
    }
   ],
   "source": [
    "cross_val_score(randomforest, X, y,\n",
    "                cv=5, \n",
    "                scoring='accuracy')\n",
    "\n",
    "print('Random Forest validation metrics: \\n Accuracy: %.4f' %\n",
    "        (np.mean(cross_val_score(randomforest, X, y, scoring='accuracy'))))"
   ]
  },
  {
   "cell_type": "code",
   "execution_count": 532,
   "metadata": {},
   "outputs": [
    {
     "name": "stdout",
     "output_type": "stream",
     "text": [
      "1 0.8316420734493383\n",
      "2 0.8390848737422856\n",
      "3 0.8374787665065739\n",
      "4 0.8325049633374805\n",
      "5 0.8307032382636012\n",
      "6 0.8282745770085548\n",
      "7 0.827334606249566\n",
      "8 0.8217330305649515\n",
      "9 0.8208322063919731\n"
     ]
    }
   ],
   "source": [
    "for i in range(1,10):\n",
    "    randomforest = RandomForestClassifier(n_estimators = 120, max_depth = i)\n",
    "    randomforest.fit(X_train, y_train)\n",
    "    \n",
    "    cross_val_score(randomforest, X, y,\n",
    "                    cv=5, \n",
    "                    scoring='accuracy')\n",
    "\n",
    "    print(i , (np.mean(cross_val_score(randomforest, X, y, scoring='accuracy'))))"
   ]
  },
  {
   "cell_type": "code",
   "execution_count": 708,
   "metadata": {},
   "outputs": [
    {
     "name": "stdout",
     "output_type": "stream",
     "text": [
      "Random Forest validation metrics: \n",
      " Accuracy: 0.8376\n"
     ]
    }
   ],
   "source": [
    "randomforest = RandomForestClassifier(n_estimators = 140, max_depth = 2)\n",
    "randomforest.fit(X_train, y_train)\n",
    "\n",
    "cross_val_score(randomforest, X, y,\n",
    "                cv=5, \n",
    "                scoring='accuracy')\n",
    "\n",
    "print('Random Forest validation metrics: \\n Accuracy: %.4f' %\n",
    "        (np.mean(cross_val_score(randomforest, X, y, scoring='accuracy'))))\n"
   ]
  },
  {
   "cell_type": "code",
   "execution_count": 709,
   "metadata": {},
   "outputs": [],
   "source": [
    "feature_names = X.columns"
   ]
  },
  {
   "cell_type": "code",
   "execution_count": 710,
   "metadata": {},
   "outputs": [
    {
     "data": {
      "text/plain": [
       "Index(['min_players', 'max_players', 'avg_time', 'min_time', 'max_time',\n",
       "       'year', 'age', 'weight', 'expands', 'num_votes', 'owned',\n",
       "       'reimplements'],\n",
       "      dtype='object')"
      ]
     },
     "execution_count": 710,
     "metadata": {},
     "output_type": "execute_result"
    }
   ],
   "source": [
    "feature_names"
   ]
  },
  {
   "cell_type": "code",
   "execution_count": 711,
   "metadata": {},
   "outputs": [
    {
     "name": "stdout",
     "output_type": "stream",
     "text": [
      "Elapsed time to compute the importances: 0.018 seconds\n"
     ]
    }
   ],
   "source": [
    "import time\n",
    "\n",
    "start_time = time.time()\n",
    "importances = randomforest.feature_importances_\n",
    "std = np.std([\n",
    "    tree.feature_importances_ for tree in randomforest.estimators_], axis=0)\n",
    "elapsed_time = time.time() - start_time\n",
    "\n",
    "print(f\"Elapsed time to compute the importances: \"\n",
    "      f\"{elapsed_time:.3f} seconds\")"
   ]
  },
  {
   "cell_type": "code",
   "execution_count": 712,
   "metadata": {},
   "outputs": [
    {
     "data": {
      "image/png": "[encoded data removed]",
      "text/plain": [
       "<Figure size 432x288 with 1 Axes>"
      ]
     },
     "metadata": {
      "needs_background": "light"
     },
     "output_type": "display_data"
    }
   ],
   "source": [
    "forest_importances = pd.Series(importances, index=feature_names)\n",
    "\n",
    "fig, ax = plt.subplots()\n",
    "forest_importances.plot.bar(ax=ax)\n",
    "ax.set_title(\"Feature importances using MDI\")\n",
    "ax.set_ylabel(\"Mean decrease in impurity\")\n",
    "fig.tight_layout()"
   ]
  },
  {
   "cell_type": "code",
   "execution_count": 538,
   "metadata": {},
   "outputs": [
    {
     "name": "stdout",
     "output_type": "stream",
     "text": [
      "Elapsed time to compute the importances: 5.905 seconds\n"
     ]
    }
   ],
   "source": [
    "from sklearn.inspection import permutation_importance\n",
    "\n",
    "start_time = time.time()\n",
    "result = permutation_importance(\n",
    "    randomforest, X_test, y_test, n_repeats=10, random_state=42, n_jobs=2)\n",
    "elapsed_time = time.time() - start_time\n",
    "print(f\"Elapsed time to compute the importances: \"\n",
    "      f\"{elapsed_time:.3f} seconds\")\n",
    "\n",
    "forest_importances = pd.Series(result.importances_mean, index=feature_names)"
   ]
  },
  {
   "cell_type": "code",
   "execution_count": 539,
   "metadata": {},
   "outputs": [
    {
     "data": {
      "image/png": "[encoded data removed]",
      "text/plain": [
       "<Figure size 432x288 with 1 Axes>"
      ]
     },
     "metadata": {
      "needs_background": "light"
     },
     "output_type": "display_data"
    }
   ],
   "source": [
    "fig, ax = plt.subplots()\n",
    "forest_importances.plot.bar(yerr=result.importances_std, ax=ax)\n",
    "ax.set_title(\"Feature importances using permutation on full model\")\n",
    "ax.set_ylabel(\"Mean accuracy decrease\")\n",
    "fig.tight_layout()\n",
    "plt.show()"
   ]
  },
  {
   "cell_type": "markdown",
   "metadata": {},
   "source": [
    "The feature importance chart shows that the most powerful features in the model are the values in the <b>'owned'</b> column (as how many people ownes the board game) and values in the <b>'num_votes'</b> column that shows that how many people gave a rating for the current board game.\n",
    "\n",
    "Unfortunatly I just realized at that point that these features <b>shouldn't been involved in the model making process</b> as these features were measured <b>after</b> the board game was released, so they won't be useful features to predict how good the game will be rated."
   ]
  },
  {
   "cell_type": "markdown",
   "metadata": {},
   "source": [
    "As the features of the dataset still suggests to use Random Forest to the model, lets check how the accuracy changes without the the two features above."
   ]
  },
  {
   "cell_type": "code",
   "execution_count": 546,
   "metadata": {},
   "outputs": [],
   "source": [
    "X2 = df_slim[['min_players', 'max_players', 'avg_time','min_time', 'max_time',\n",
    "             'year', 'age', 'weight','expands','reimplements']]\n",
    "y2 = df_slim['g_rate']"
   ]
  },
  {
   "cell_type": "code",
   "execution_count": 547,
   "metadata": {},
   "outputs": [],
   "source": [
    "X_train2, X_test2, y_train2, y_test2 = train_test_split(X2, y2, test_size = .2)"
   ]
  },
  {
   "cell_type": "code",
   "execution_count": 557,
   "metadata": {},
   "outputs": [
    {
     "data": {
      "text/plain": [
       "RandomForestClassifier(max_depth=2, n_estimators=140)"
      ]
     },
     "execution_count": 557,
     "metadata": {},
     "output_type": "execute_result"
    }
   ],
   "source": [
    "randomforest = RandomForestClassifier(n_estimators = 140, max_depth = 2)\n",
    "randomforest.fit(X_train, y_train)"
   ]
  },
  {
   "cell_type": "code",
   "execution_count": 558,
   "metadata": {},
   "outputs": [
    {
     "name": "stdout",
     "output_type": "stream",
     "text": [
      "Random Forest validation metrics: \n",
      " Accuracy: 0.5878\n"
     ]
    }
   ],
   "source": [
    "randomforest2 = RandomForestClassifier(n_estimators = 140, max_depth = 2)\n",
    "randomforest2.fit(X_train2, y_train2)\n",
    "\n",
    "cross_val_score(randomforest, X2, y2,\n",
    "                cv=5, \n",
    "                scoring='accuracy')\n",
    "\n",
    "print('Random Forest validation metrics: \\n Accuracy: %.4f' %\n",
    "        (np.mean(cross_val_score(randomforest, X2, y2, scoring='accuracy'))))"
   ]
  },
  {
   "cell_type": "code",
   "execution_count": 562,
   "metadata": {},
   "outputs": [
    {
     "data": {
      "text/plain": [
       "<matplotlib.legend.Legend at 0x7fad06917d00>"
      ]
     },
     "execution_count": 562,
     "metadata": {},
     "output_type": "execute_result"
    },
    {
     "data": {
      "image/png": "[encoded data removed]",
      "text/plain": [
       "<Figure size 432x288 with 1 Axes>"
      ]
     },
     "metadata": {
      "needs_background": "light"
     },
     "output_type": "display_data"
    }
   ],
   "source": [
    "fpr, tpr, _ = roc_curve(y_test, randomforest.predict_proba(X_test)[:,1])\n",
    "plt.plot(fpr, tpr)\n",
    "\n",
    "fpr, tpr, _ = roc_curve(y_test2, randomforest2.predict_proba(X_test2)[:,1])\n",
    "plt.plot(fpr, tpr)\n",
    "\n",
    "\n",
    "x = np.linspace(0,1, 100000)\n",
    "plt.plot(x, x, linestyle='--')\n",
    "\n",
    "plt.title('ROC Curve')\n",
    "plt.xlabel('False Positive Rate')\n",
    "plt.ylabel('True Positive Rate')\n",
    "plt.legend(['Random Forest original','Random Forest fixed'])"
   ]
  },
  {
   "cell_type": "code",
   "execution_count": 563,
   "metadata": {},
   "outputs": [],
   "source": [
    "feature_names2 = X2.columns"
   ]
  },
  {
   "cell_type": "code",
   "execution_count": 564,
   "metadata": {},
   "outputs": [
    {
     "data": {
      "text/plain": [
       "Index(['min_players', 'max_players', 'avg_time', 'min_time', 'max_time',\n",
       "       'year', 'age', 'weight', 'expands', 'reimplements'],\n",
       "      dtype='object')"
      ]
     },
     "execution_count": 564,
     "metadata": {},
     "output_type": "execute_result"
    }
   ],
   "source": [
    "feature_names2"
   ]
  },
  {
   "cell_type": "code",
   "execution_count": 567,
   "metadata": {},
   "outputs": [
    {
     "name": "stdout",
     "output_type": "stream",
     "text": [
      "Elapsed time to compute the importances: 0.024 seconds\n"
     ]
    }
   ],
   "source": [
    "import time\n",
    "\n",
    "start_time = time.time()\n",
    "importances2 = randomforest2.feature_importances_\n",
    "std = np.std([\n",
    "    tree.feature_importances_ for tree in randomforest2.estimators_], axis=0)\n",
    "elapsed_time = time.time() - start_time\n",
    "\n",
    "print(f\"Elapsed time to compute the importances: \"\n",
    "      f\"{elapsed_time:.3f} seconds\")"
   ]
  },
  {
   "cell_type": "code",
   "execution_count": 568,
   "metadata": {},
   "outputs": [
    {
     "data": {
      "image/png": "[encoded data removed]",
      "text/plain": [
       "<Figure size 432x288 with 1 Axes>"
      ]
     },
     "metadata": {
      "needs_background": "light"
     },
     "output_type": "display_data"
    }
   ],
   "source": [
    "forest_importances = pd.Series(importances2, index=feature_names2)\n",
    "\n",
    "fig, ax = plt.subplots()\n",
    "forest_importances.plot.bar(yerr=std, ax=ax)\n",
    "ax.set_title(\"Feature importances (fixed) using MDI\")\n",
    "ax.set_ylabel(\"Mean decrease in impurity\")\n",
    "fig.tight_layout()"
   ]
  },
  {
   "cell_type": "markdown",
   "metadata": {},
   "source": [
    "We can see the changes in the feature importancy chart that shows that the <b>'weight'</b> and <b>'year'</b> are the most powerful features in the model prediction, followed by the <b>'avg-time','expands'</b> and <b>'max_time'</b>."
   ]
  },
  {
   "cell_type": "code",
   "execution_count": 571,
   "metadata": {},
   "outputs": [
    {
     "data": {
      "text/plain": [
       "Index(['names', 'min_players', 'max_players', 'avg_time', 'min_time',\n",
       "       'max_time', 'year', 'avg_rating', 'geek_rating', 'num_votes', 'rank',\n",
       "       'age', 'mechanic', 'owned', 'category', 'designer', 'publisher',\n",
       "       'weight', 'expands', 'reimplements', 'g_rate'],\n",
       "      dtype='object')"
      ]
     },
     "execution_count": 571,
     "metadata": {},
     "output_type": "execute_result"
    }
   ],
   "source": [
    "df_slim.columns"
   ]
  },
  {
   "cell_type": "code",
   "execution_count": 574,
   "metadata": {},
   "outputs": [
    {
     "data": {
      "text/plain": [
       "Edge Entertainment                      661\n",
       "(Self-Published)                        556\n",
       "(Web published)                         414\n",
       "Hasbro                                  402\n",
       "Asmodee                                 367\n",
       "Fantasy Flight Games                    344\n",
       "GMT Games                               320\n",
       "999 Games                               315\n",
       "AMIGO                                   266\n",
       "Decision Games (I)                      263\n",
       "The Avalon Hill Game Co                 254\n",
       "Ravensburger Spieleverlag GmbH          234\n",
       "KOSMOS                                  228\n",
       "Alderac Entertainment Group             228\n",
       "Eagle-Gryphon Games                     219\n",
       "Games Workshop Ltd.                     218\n",
       "Queen Games                             198\n",
       "ABACUSSPIELE                            195\n",
       "(Public Domain)                         193\n",
       "SPI (Simulations Publications, Inc.)    191\n",
       "Name: publisher, dtype: int64"
      ]
     },
     "execution_count": 574,
     "metadata": {},
     "output_type": "execute_result"
    }
   ],
   "source": [
    "df_slim.publisher.value_counts().head(20)"
   ]
  },
  {
   "cell_type": "code",
   "execution_count": 624,
   "metadata": {},
   "outputs": [],
   "source": [
    "top_publisher = ['Edge Entertainment','(Self-Published)','(Web published)','Hasbro']"
   ]
  },
  {
   "cell_type": "code",
   "execution_count": 621,
   "metadata": {},
   "outputs": [],
   "source": [
    "df_slim['pub_edge_ent'] = np.where(df_slim['publisher']== 'Edge Entertainment', 1, 0)"
   ]
  },
  {
   "cell_type": "code",
   "execution_count": 626,
   "metadata": {},
   "outputs": [],
   "source": [
    "df_slim['pub_self'] = np.where(df_slim['publisher']== '(Self-Published)', 1, 0)"
   ]
  },
  {
   "cell_type": "code",
   "execution_count": 627,
   "metadata": {},
   "outputs": [],
   "source": [
    "df_slim['pub_web'] = np.where(df_slim['publisher']== '(Web published)', 1, 0)"
   ]
  },
  {
   "cell_type": "code",
   "execution_count": 628,
   "metadata": {},
   "outputs": [],
   "source": [
    "df_slim['pub_hasbro'] = np.where(df_slim['publisher']== 'Hasbro', 1, 0)"
   ]
  },
  {
   "cell_type": "code",
   "execution_count": 639,
   "metadata": {},
   "outputs": [],
   "source": [
    "df_slim['pub_other'] = np.where(((df_slim['pub_edge_ent'] != 1) & (df_slim['pub_self'] != 1) & \n",
    "                                (df_slim['pub_web'] != 1) & (df_slim['pub_hasbro'] != 1)), 1, 0)"
   ]
  },
  {
   "cell_type": "code",
   "execution_count": 641,
   "metadata": {},
   "outputs": [
    {
     "name": "stdout",
     "output_type": "stream",
     "text": [
      "<class 'pandas.core.frame.DataFrame'>\n",
      "Int64Index: 25529 entries, 0 to 115788\n",
      "Data columns (total 26 columns):\n",
      " #   Column        Non-Null Count  Dtype  \n",
      "---  ------        --------------  -----  \n",
      " 0   names         25529 non-null  object \n",
      " 1   min_players   25529 non-null  int64  \n",
      " 2   max_players   25529 non-null  int64  \n",
      " 3   avg_time      25529 non-null  int64  \n",
      " 4   min_time      25529 non-null  int64  \n",
      " 5   max_time      25529 non-null  int64  \n",
      " 6   year          25529 non-null  int64  \n",
      " 7   avg_rating    25529 non-null  float64\n",
      " 8   geek_rating   25529 non-null  float64\n",
      " 9   num_votes     25529 non-null  int64  \n",
      " 10  rank          18775 non-null  float64\n",
      " 11  age           25529 non-null  int64  \n",
      " 12  mechanic      23434 non-null  object \n",
      " 13  owned         25529 non-null  int64  \n",
      " 14  category      25277 non-null  object \n",
      " 15  designer      24391 non-null  object \n",
      " 16  publisher     25529 non-null  object \n",
      " 17  weight        25529 non-null  float64\n",
      " 18  expands       25529 non-null  float64\n",
      " 19  reimplements  25529 non-null  float64\n",
      " 20  g_rate        25529 non-null  int64  \n",
      " 21  pub_edge_ent  25529 non-null  int64  \n",
      " 22  pub_self      25529 non-null  int64  \n",
      " 23  pub_web       25529 non-null  int64  \n",
      " 24  pub_hasbro    25529 non-null  int64  \n",
      " 25  pub_other     25529 non-null  int64  \n",
      "dtypes: float64(6), int64(15), object(5)\n",
      "memory usage: 5.3+ MB\n"
     ]
    }
   ],
   "source": [
    "df_slim.info()"
   ]
  },
  {
   "cell_type": "code",
   "execution_count": 645,
   "metadata": {},
   "outputs": [],
   "source": [
    "X = df_slim[['min_players', 'max_players', 'avg_time','min_time', 'max_time','year', 'age', 'weight','expands', \n",
    "             'reimplements','pub_edge_ent','pub_self','pub_web', 'pub_hasbro', 'pub_other']]\n",
    "y = df_slim['g_rate']"
   ]
  },
  {
   "cell_type": "code",
   "execution_count": 646,
   "metadata": {},
   "outputs": [],
   "source": [
    "X_train, X_test, y_train, y_test = train_test_split(X, y, test_size = .2)"
   ]
  },
  {
   "cell_type": "code",
   "execution_count": 647,
   "metadata": {},
   "outputs": [
    {
     "name": "stdout",
     "output_type": "stream",
     "text": [
      "Random Forest validation metrics: \n",
      " Accuracy: 0.5996\n"
     ]
    }
   ],
   "source": [
    "randomforest = RandomForestClassifier(n_estimators = 140, max_depth = 2)\n",
    "randomforest.fit(X_train, y_train)\n",
    "\n",
    "cross_val_score(randomforest, X, y,\n",
    "                cv=5, \n",
    "                scoring='accuracy')\n",
    "\n",
    "print('Random Forest validation metrics: \\n Accuracy: %.4f' %\n",
    "        (np.mean(cross_val_score(randomforest, X, y, scoring='accuracy'))))"
   ]
  },
  {
   "cell_type": "code",
   "execution_count": 650,
   "metadata": {},
   "outputs": [],
   "source": [
    "feature_names = X.columns"
   ]
  },
  {
   "cell_type": "code",
   "execution_count": 651,
   "metadata": {},
   "outputs": [
    {
     "name": "stdout",
     "output_type": "stream",
     "text": [
      "Elapsed time to compute the importances: 0.017 seconds\n"
     ]
    }
   ],
   "source": [
    "import time\n",
    "\n",
    "start_time = time.time()\n",
    "importances = randomforest.feature_importances_\n",
    "std = np.std([\n",
    "    tree.feature_importances_ for tree in randomforest.estimators_], axis=0)\n",
    "elapsed_time = time.time() - start_time\n",
    "\n",
    "print(f\"Elapsed time to compute the importances: \"\n",
    "      f\"{elapsed_time:.3f} seconds\")"
   ]
  },
  {
   "cell_type": "code",
   "execution_count": 652,
   "metadata": {},
   "outputs": [
    {
     "data": {
      "image/png": "[encoded data removed]",
      "text/plain": [
       "<Figure size 432x288 with 1 Axes>"
      ]
     },
     "metadata": {
      "needs_background": "light"
     },
     "output_type": "display_data"
    }
   ],
   "source": [
    "forest_importances = pd.Series(importances, index=feature_names)\n",
    "\n",
    "fig, ax = plt.subplots()\n",
    "forest_importances.plot.bar(yerr=std, ax=ax)\n",
    "ax.set_title(\"Feature importances using MDI\")\n",
    "ax.set_ylabel(\"Mean decrease in impurity\")\n",
    "fig.tight_layout()"
   ]
  },
  {
   "cell_type": "code",
   "execution_count": 577,
   "metadata": {},
   "outputs": [
    {
     "data": {
      "text/plain": [
       "0                          Economic, Negotiation, Political\n",
       "1                                        Card Game, Fantasy\n",
       "2                               Abstract Strategy, Medieval\n",
       "3                                                   Ancient\n",
       "4                                                  Economic\n",
       "                                ...                        \n",
       "113607                                           Party Game\n",
       "114664    Card Game, Comic Book / Strip, Fantasy, Miniat...\n",
       "114802                                                 Dice\n",
       "114865    Adventure, Exploration, Nautical, Pirates, Travel\n",
       "115788                                         Print & Play\n",
       "Name: category, Length: 25529, dtype: object"
      ]
     },
     "execution_count": 577,
     "metadata": {},
     "output_type": "execute_result"
    }
   ],
   "source": [
    "df_slim.category"
   ]
  },
  {
   "cell_type": "code",
   "execution_count": 578,
   "metadata": {},
   "outputs": [],
   "source": [
    "categories_list = df_slim.category.values.tolist()"
   ]
  },
  {
   "cell_type": "code",
   "execution_count": 588,
   "metadata": {},
   "outputs": [],
   "source": [
    "categories_str = str(categories_list)"
   ]
  },
  {
   "cell_type": "code",
   "execution_count": 599,
   "metadata": {},
   "outputs": [],
   "source": [
    "categories_str = categories_str.replace(\"[\", \"\").replace(\"]\", \"\").replace('\"', '')"
   ]
  },
  {
   "cell_type": "code",
   "execution_count": 600,
   "metadata": {},
   "outputs": [],
   "source": [
    "categories_list = categories_str.split(\", \")"
   ]
  },
  {
   "cell_type": "code",
   "execution_count": 602,
   "metadata": {},
   "outputs": [
    {
     "data": {
      "text/plain": [
       "85"
      ]
     },
     "execution_count": 602,
     "metadata": {},
     "output_type": "execute_result"
    }
   ],
   "source": [
    "len(set(categories_list))"
   ]
  },
  {
   "cell_type": "code",
   "execution_count": 608,
   "metadata": {},
   "outputs": [],
   "source": [
    "import collections"
   ]
  },
  {
   "cell_type": "code",
   "execution_count": 609,
   "metadata": {},
   "outputs": [],
   "source": [
    "occurrences = collections.Counter(categories_list)"
   ]
  },
  {
   "cell_type": "code",
   "execution_count": 618,
   "metadata": {},
   "outputs": [],
   "source": [
    "import operator\n",
    "sorted_occurrences = sorted(occurrences.items(), key=operator.itemgetter(1))"
   ]
  },
  {
   "cell_type": "code",
   "execution_count": 653,
   "metadata": {},
   "outputs": [
    {
     "data": {
      "text/plain": [
       "[('Fighting', 2862),\n",
       " ('Fantasy', 4218),\n",
       " ('Wargame', 4390),\n",
       " ('Expansion for Base-game', 5948),\n",
       " ('Card Game', 7587)]"
      ]
     },
     "execution_count": 653,
     "metadata": {},
     "output_type": "execute_result"
    }
   ],
   "source": [
    "sorted_occurrences[-5:]"
   ]
  },
  {
   "cell_type": "code",
   "execution_count": 666,
   "metadata": {},
   "outputs": [],
   "source": [
    "df_slim['cat_card'] = np.where(df_slim['category'].str.contains('Card Game'), 1, 0)"
   ]
  },
  {
   "cell_type": "code",
   "execution_count": 669,
   "metadata": {},
   "outputs": [],
   "source": [
    "df_slim['cat_exp'] = np.where(df_slim['category'].str.contains('Expansion for Base-game'), 1, 0)"
   ]
  },
  {
   "cell_type": "code",
   "execution_count": 670,
   "metadata": {},
   "outputs": [],
   "source": [
    "df_slim['cat_war'] = np.where(df_slim['category'].str.contains('Wargame'), 1, 0)"
   ]
  },
  {
   "cell_type": "code",
   "execution_count": 671,
   "metadata": {},
   "outputs": [],
   "source": [
    "df_slim['cat_fant'] = np.where(df_slim['category'].str.contains('Fantasy'), 1, 0)"
   ]
  },
  {
   "cell_type": "code",
   "execution_count": 678,
   "metadata": {},
   "outputs": [],
   "source": [
    "df_slim['cat_other'] = np.where(((df_slim['cat_card'] != 1) & (df_slim['cat_exp'] != 1) & \n",
    "                                (df_slim['cat_war'] != 1) & (df_slim['cat_fant'] != 1)), 1, 0)"
   ]
  },
  {
   "cell_type": "code",
   "execution_count": 680,
   "metadata": {},
   "outputs": [
    {
     "name": "stdout",
     "output_type": "stream",
     "text": [
      "<class 'pandas.core.frame.DataFrame'>\n",
      "Int64Index: 25529 entries, 0 to 115788\n",
      "Data columns (total 31 columns):\n",
      " #   Column        Non-Null Count  Dtype  \n",
      "---  ------        --------------  -----  \n",
      " 0   names         25529 non-null  object \n",
      " 1   min_players   25529 non-null  int64  \n",
      " 2   max_players   25529 non-null  int64  \n",
      " 3   avg_time      25529 non-null  int64  \n",
      " 4   min_time      25529 non-null  int64  \n",
      " 5   max_time      25529 non-null  int64  \n",
      " 6   year          25529 non-null  int64  \n",
      " 7   avg_rating    25529 non-null  float64\n",
      " 8   geek_rating   25529 non-null  float64\n",
      " 9   num_votes     25529 non-null  int64  \n",
      " 10  rank          18775 non-null  float64\n",
      " 11  age           25529 non-null  int64  \n",
      " 12  mechanic      23434 non-null  object \n",
      " 13  owned         25529 non-null  int64  \n",
      " 14  category      25277 non-null  object \n",
      " 15  designer      24391 non-null  object \n",
      " 16  publisher     25529 non-null  object \n",
      " 17  weight        25529 non-null  float64\n",
      " 18  expands       25529 non-null  float64\n",
      " 19  reimplements  25529 non-null  float64\n",
      " 20  g_rate        25529 non-null  int64  \n",
      " 21  pub_edge_ent  25529 non-null  int64  \n",
      " 22  pub_self      25529 non-null  int64  \n",
      " 23  pub_web       25529 non-null  int64  \n",
      " 24  pub_hasbro    25529 non-null  int64  \n",
      " 25  pub_other     25529 non-null  int64  \n",
      " 26  cat_card      25529 non-null  int64  \n",
      " 27  cat_exp       25529 non-null  int64  \n",
      " 28  cat_war       25529 non-null  int64  \n",
      " 29  cat_fant      25529 non-null  int64  \n",
      " 30  cat_other     25529 non-null  int64  \n",
      "dtypes: float64(6), int64(20), object(5)\n",
      "memory usage: 7.5+ MB\n"
     ]
    }
   ],
   "source": [
    "df_slim.info()"
   ]
  },
  {
   "cell_type": "code",
   "execution_count": 681,
   "metadata": {},
   "outputs": [
    {
     "data": {
      "text/plain": [
       "Index(['names', 'min_players', 'max_players', 'avg_time', 'min_time',\n",
       "       'max_time', 'year', 'avg_rating', 'geek_rating', 'num_votes', 'rank',\n",
       "       'age', 'mechanic', 'owned', 'category', 'designer', 'publisher',\n",
       "       'weight', 'expands', 'reimplements', 'g_rate', 'pub_edge_ent',\n",
       "       'pub_self', 'pub_web', 'pub_hasbro', 'pub_other', 'cat_card', 'cat_exp',\n",
       "       'cat_war', 'cat_fant', 'cat_other'],\n",
       "      dtype='object')"
      ]
     },
     "execution_count": 681,
     "metadata": {},
     "output_type": "execute_result"
    }
   ],
   "source": [
    "df_slim.columns"
   ]
  },
  {
   "cell_type": "code",
   "execution_count": 713,
   "metadata": {},
   "outputs": [],
   "source": [
    "X = df_slim[['min_players', 'max_players', 'avg_time','min_time', 'max_time','year', 'age', 'weight','expands', \n",
    "             'reimplements','pub_edge_ent','pub_self','pub_web', 'pub_hasbro', 'pub_other','cat_card', 'cat_exp',\n",
    "       'cat_war', 'cat_fant', 'cat_other']]\n",
    "y = df_slim['g_rate']"
   ]
  },
  {
   "cell_type": "code",
   "execution_count": 714,
   "metadata": {},
   "outputs": [],
   "source": [
    "X_train, X_test, y_train, y_test = train_test_split(X, y, test_size = .2)"
   ]
  },
  {
   "cell_type": "code",
   "execution_count": 715,
   "metadata": {},
   "outputs": [
    {
     "name": "stdout",
     "output_type": "stream",
     "text": [
      "Random Forest validation metrics: \n",
      " Accuracy: 0.6041\n"
     ]
    }
   ],
   "source": [
    "randomforest = RandomForestClassifier(n_estimators = 140, max_depth = 2)\n",
    "randomforest.fit(X_train, y_train)\n",
    "\n",
    "cross_val_score(randomforest, X, y,\n",
    "                cv=5, \n",
    "                scoring='accuracy')\n",
    "\n",
    "print('Random Forest validation metrics: \\n Accuracy: %.4f' %\n",
    "        (np.mean(cross_val_score(randomforest, X, y, scoring='accuracy'))))"
   ]
  },
  {
   "cell_type": "code",
   "execution_count": 716,
   "metadata": {},
   "outputs": [],
   "source": [
    "feature_names = X.columns"
   ]
  },
  {
   "cell_type": "code",
   "execution_count": 717,
   "metadata": {},
   "outputs": [
    {
     "name": "stdout",
     "output_type": "stream",
     "text": [
      "Elapsed time to compute the importances: 0.016 seconds\n"
     ]
    }
   ],
   "source": [
    "start_time = time.time()\n",
    "importances = randomforest.feature_importances_\n",
    "std = np.std([\n",
    "    tree.feature_importances_ for tree in randomforest.estimators_], axis=0)\n",
    "elapsed_time = time.time() - start_time\n",
    "\n",
    "print(f\"Elapsed time to compute the importances: \"\n",
    "      f\"{elapsed_time:.3f} seconds\")"
   ]
  },
  {
   "cell_type": "code",
   "execution_count": 718,
   "metadata": {},
   "outputs": [
    {
     "data": {
      "image/png": "[encoded data removed]",
      "text/plain": [
       "<Figure size 432x288 with 1 Axes>"
      ]
     },
     "metadata": {
      "needs_background": "light"
     },
     "output_type": "display_data"
    }
   ],
   "source": [
    "forest_importances = pd.Series(importances, index=feature_names)\n",
    "\n",
    "fig, ax = plt.subplots()\n",
    "forest_importances.plot.bar(ax=ax)\n",
    "ax.set_title(\"Feature importances using MDI\")\n",
    "ax.set_ylabel(\"Mean decrease in impurity\")\n",
    "fig.tight_layout()"
   ]
  },
  {
   "cell_type": "code",
   "execution_count": 719,
   "metadata": {},
   "outputs": [
    {
     "data": {
      "image/png": "[encoded data removed]",
      "text/plain": [
       "<Figure size 480x320 with 2 Axes>"
      ]
     },
     "metadata": {
      "needs_background": "light"
     },
     "output_type": "display_data"
    }
   ],
   "source": [
    "make_confusion_matrix(randomforest, threshold=0.5)"
   ]
  }
 ],
 "metadata": {
  "kernelspec": {
   "display_name": "Python 3",
   "language": "python",
   "name": "python3"
  },
  "language_info": {
   "codemirror_mode": {
    "name": "ipython",
    "version": 3
   },
   "file_extension": ".py",
   "mimetype": "text/x-python",
   "name": "python",
   "nbconvert_exporter": "python",
   "pygments_lexer": "ipython3",
   "version": "3.8.5"
  }
 },
 "nbformat": 4,
 "nbformat_minor": 4
}
